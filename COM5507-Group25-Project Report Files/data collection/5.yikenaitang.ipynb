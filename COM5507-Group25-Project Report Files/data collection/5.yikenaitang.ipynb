{
 "cells": [
  {
   "cell_type": "code",
   "execution_count": 1,
   "metadata": {},
   "outputs": [
    {
     "name": "stderr",
     "output_type": "stream",
     "text": [
      "/Users/kaiyi/Library/Python/3.9/lib/python/site-packages/urllib3/__init__.py:35: NotOpenSSLWarning: urllib3 v2 only supports OpenSSL 1.1.1+, currently the 'ssl' module is compiled with 'LibreSSL 2.8.3'. See: https://github.com/urllib3/urllib3/issues/3020\n",
      "  warnings.warn(\n"
     ]
    },
    {
     "ename": "OSError",
     "evalue": "[Errno 30] Read-only file system: 'naitang_pinglun.csv'",
     "output_type": "error",
     "traceback": [
      "\u001b[0;31m---------------------------------------------------------------------------\u001b[0m",
      "\u001b[0;31mOSError\u001b[0m                                   Traceback (most recent call last)",
      "Cell \u001b[0;32mIn[1], line 5\u001b[0m\n\u001b[1;32m      2\u001b[0m \u001b[38;5;28;01mimport\u001b[39;00m \u001b[38;5;21;01mcsv\u001b[39;00m\n\u001b[1;32m      4\u001b[0m \u001b[38;5;66;03m# 打开 CSV 文件，准备写入\u001b[39;00m\n\u001b[0;32m----> 5\u001b[0m \u001b[38;5;28;01mwith\u001b[39;00m \u001b[38;5;28;43mopen\u001b[39;49m\u001b[43m(\u001b[49m\u001b[38;5;124;43m'\u001b[39;49m\u001b[38;5;124;43mnaitang_pinglun.csv\u001b[39;49m\u001b[38;5;124;43m'\u001b[39;49m\u001b[43m,\u001b[49m\u001b[43m \u001b[49m\u001b[43mmode\u001b[49m\u001b[38;5;241;43m=\u001b[39;49m\u001b[38;5;124;43m'\u001b[39;49m\u001b[38;5;124;43ma\u001b[39;49m\u001b[38;5;124;43m'\u001b[39;49m\u001b[43m,\u001b[49m\u001b[43m \u001b[49m\u001b[43mencoding\u001b[49m\u001b[38;5;241;43m=\u001b[39;49m\u001b[38;5;124;43m'\u001b[39;49m\u001b[38;5;124;43mutf-8-sig\u001b[39;49m\u001b[38;5;124;43m'\u001b[39;49m\u001b[43m,\u001b[49m\u001b[43m \u001b[49m\u001b[43mnewline\u001b[49m\u001b[38;5;241;43m=\u001b[39;49m\u001b[38;5;124;43m'\u001b[39;49m\u001b[38;5;124;43m'\u001b[39;49m\u001b[43m)\u001b[49m \u001b[38;5;28;01mas\u001b[39;00m f:\n\u001b[1;32m      6\u001b[0m     csv_write \u001b[38;5;241m=\u001b[39m csv\u001b[38;5;241m.\u001b[39mwriter(f)\n\u001b[1;32m      7\u001b[0m     csv_write\u001b[38;5;241m.\u001b[39mwriterow([\u001b[38;5;124m'\u001b[39m\u001b[38;5;124mcontent\u001b[39m\u001b[38;5;124m'\u001b[39m, \u001b[38;5;124m'\u001b[39m\u001b[38;5;124m_id\u001b[39m\u001b[38;5;124m'\u001b[39m, \u001b[38;5;124m'\u001b[39m\u001b[38;5;124mlike_counts\u001b[39m\u001b[38;5;124m'\u001b[39m, \u001b[38;5;124m'\u001b[39m\u001b[38;5;124mip_location\u001b[39m\u001b[38;5;124m'\u001b[39m, \u001b[38;5;124m'\u001b[39m\u001b[38;5;124mcreated_at\u001b[39m\u001b[38;5;124m'\u001b[39m, \u001b[38;5;124m'\u001b[39m\u001b[38;5;124mtotal_number\u001b[39m\u001b[38;5;124m'\u001b[39m, \u001b[38;5;124m'\u001b[39m\u001b[38;5;124muser_name\u001b[39m\u001b[38;5;124m'\u001b[39m, \u001b[38;5;124m'\u001b[39m\u001b[38;5;124mgender\u001b[39m\u001b[38;5;124m'\u001b[39m])\n",
      "File \u001b[0;32m~/Library/Python/3.9/lib/python/site-packages/IPython/core/interactiveshell.py:310\u001b[0m, in \u001b[0;36m_modified_open\u001b[0;34m(file, *args, **kwargs)\u001b[0m\n\u001b[1;32m    303\u001b[0m \u001b[38;5;28;01mif\u001b[39;00m file \u001b[38;5;129;01min\u001b[39;00m {\u001b[38;5;241m0\u001b[39m, \u001b[38;5;241m1\u001b[39m, \u001b[38;5;241m2\u001b[39m}:\n\u001b[1;32m    304\u001b[0m     \u001b[38;5;28;01mraise\u001b[39;00m \u001b[38;5;167;01mValueError\u001b[39;00m(\n\u001b[1;32m    305\u001b[0m         \u001b[38;5;124mf\u001b[39m\u001b[38;5;124m\"\u001b[39m\u001b[38;5;124mIPython won\u001b[39m\u001b[38;5;124m'\u001b[39m\u001b[38;5;124mt let you open fd=\u001b[39m\u001b[38;5;132;01m{\u001b[39;00mfile\u001b[38;5;132;01m}\u001b[39;00m\u001b[38;5;124m by default \u001b[39m\u001b[38;5;124m\"\u001b[39m\n\u001b[1;32m    306\u001b[0m         \u001b[38;5;124m\"\u001b[39m\u001b[38;5;124mas it is likely to crash IPython. If you know what you are doing, \u001b[39m\u001b[38;5;124m\"\u001b[39m\n\u001b[1;32m    307\u001b[0m         \u001b[38;5;124m\"\u001b[39m\u001b[38;5;124myou can use builtins\u001b[39m\u001b[38;5;124m'\u001b[39m\u001b[38;5;124m open.\u001b[39m\u001b[38;5;124m\"\u001b[39m\n\u001b[1;32m    308\u001b[0m     )\n\u001b[0;32m--> 310\u001b[0m \u001b[38;5;28;01mreturn\u001b[39;00m \u001b[43mio_open\u001b[49m\u001b[43m(\u001b[49m\u001b[43mfile\u001b[49m\u001b[43m,\u001b[49m\u001b[43m \u001b[49m\u001b[38;5;241;43m*\u001b[39;49m\u001b[43margs\u001b[49m\u001b[43m,\u001b[49m\u001b[43m \u001b[49m\u001b[38;5;241;43m*\u001b[39;49m\u001b[38;5;241;43m*\u001b[39;49m\u001b[43mkwargs\u001b[49m\u001b[43m)\u001b[49m\n",
      "\u001b[0;31mOSError\u001b[0m: [Errno 30] Read-only file system: 'naitang_pinglun.csv'"
     ]
    }
   ],
   "source": [
    "import requests\n",
    "import csv\n",
    "\n",
    "# 打开 CSV 文件，准备写入\n",
    "with open('naitang_pinglun.csv', mode='a', encoding='utf-8-sig', newline='') as f:\n",
    "    csv_write = csv.writer(f)\n",
    "    csv_write.writerow(['content', '_id', 'like_counts', 'ip_location', 'created_at', 'total_number', 'user_name', 'gender'])\n",
    "\n",
    "    # 请求头\n",
    "    headers = {\n",
    "        'cookie': '__gads=ID=17e5c8be7f4cc2dd:T=1730127106:RT=1730127106:S=ALNI_Ma3SH_k_HesXOUEHTUJ0n5LErfTtg; __gpi=UID=00000f596fd17c2d:T=1730127106:RT=1730127106:S=ALNI_MZ_rYUFZ9SrLOmJvWL7B7Ks1c_q1Q; __eoi=ID=eabcb9685681cd11:T=1730127106:RT=1730127106:S=AA-AfjY1ECTy-BtKjz-K6wTJFhJD; iUUID=a54cd2c6613389ce2a6989b387b42799; _ga=GA1.1.1191326649.1730127105; FCNEC=%5B%5B%22AKsRol_Xz5wvOuWY9i8uLJ5cZj_GlRB23nOeH4fEM5bHnJhj3M_E_B-2AfCth9azI_8Scr3MPoqunn10igONtuM0YYrClkngauUuQD5RRX1hj1Hmxk0qV9ZFRWSBGe5jSNs5n-DGn4ein8-3BZNyHzTrEoYnigYQSg%3D%3D%22%5D%5D; _ga_QZXMWYY4QK=GS1.1.1730127104.1.1.1730127116.48.0.0; _ga_B61YQPGY9T=GS1.1.1730127104.1.1.1730127116.0.0.0; _ga_7WMZ8XEWGJ=GS1.1.1730127104.1.1.1730127116.0.0.0; _ga_DL2CM4NHWS=GS1.1.1730127104.1.1.1730127116.0.0.0; SCF=ApGJCGk9UQULHmrp-Tj7SWrTAjCkWDZ3xmi1tJQ3fUOjhEB7RBjXJA7t5Idhxmg8aay1KxPp1dd2y7CkD1MvBkk.; SUB=_2A25KPdCzDeRhGeNG6VcW8SjMzj6IHXVpM2x7rDV8PUNbmtANLRLZkW1NS3rem10zpoFwb_FMXtSNhSYsb8DyKkZY; SUBP=0033WrSXqPxfM725Ws9jqgMF55529P9D9W5F4nXLpkM._c4KKguv2mJU5JpX5KzhUgL.Fo-Reo-NeKq7SKz2dJLoIE2LB0zLBoMLxKnL122L1KzLxKnL122L1KzLxKnL1hnL1-qt; ALF=02_1734421987; SINAGLOBAL=692963898019.6451.1731833225999; ULV=1731833226059:1:1:1:692963898019.6451.1731833225999:; WBPSESS=FrVIzPKiXw7ukpnK0nELZ9pA108EhjXy1ziOUKdWThKQADsbFupmlAIX_CJFMLek97K7CKqSdgVeEnj3gJNhOhqW8OKPDoc4QEEBuz5UpBWPh4ZJJkBZjgeoqAXeu3o5IGNgUiCRjR-8GTBykEd1HQ==; XSRF-',\n",
    "        'referer':'https://weibo.com/3004087571/5094770965482188?wm=3333_2001&from=10E5393010&sourcetype=weixin&s_trans=3976826777_5094770965482188&s_channel=4',\n",
    "        'user-agent': 'Mozilla/5.0 (Macintosh; Intel Mac OS X 10_15_7) AppleWebKit/537.36 (KHTML, like Gecko) Chrome/130.0.0.0 Safari/537.36'\n",
    "    }\n",
    "\n",
    "    def get_comments():\n",
    "        next_param = 'count=10'\n",
    "        while True:\n",
    "            url = f'https://weibo.com/ajax/statuses/buildComments?is_reload=1&id=5094770965482188&is_show_bulletin=2&is_mix=0&{next_param}&uid=3004087571&fetch_level=0&locale=zh-CN'\n",
    "            \n",
    "            try:\n",
    "                # 发送请求\n",
    "                response = requests.get(url=url, headers=headers)\n",
    "                response.raise_for_status()  # 检查请求是否成功\n",
    "                \n",
    "                # 解析 JSON 数据\n",
    "                json_data = response.json()\n",
    "                print(\"响应内容:\", json_data)  # 打印响应内容以供调试\n",
    "\n",
    "                # 使用 get() 方法安全访问\n",
    "                data_list = json_data.get('data', [])\n",
    "                max_id = json_data.get('max_id')\n",
    "\n",
    "                if not data_list:\n",
    "                    print(\"没有更多的评论可供获取。\")\n",
    "                    break\n",
    "                \n",
    "                for data in data_list:\n",
    "                    content = data.get('text_raw', '')\n",
    "                    _id = data.get('id')\n",
    "                    like_counts = data.get('like_counts', 0)\n",
    "                    ip_location = data.get('source', '')\n",
    "                    created_at = data.get('created_at', '')\n",
    "                    total_number = data.get('total_number', 0)\n",
    "                    user_name = data['user'].get('screen_name', '')\n",
    "                    gender = data['user'].get('gender', '')\n",
    "\n",
    "                    # 打印和写入数据\n",
    "                    print(content, _id, like_counts, ip_location, created_at, total_number, user_name, gender)\n",
    "                    csv_write.writerow([content, _id, like_counts, ip_location, created_at, total_number, user_name, gender])\n",
    "\n",
    "                next_param = 'max_id=' + str(max_id)  # 更新参数以获取下一页评论\n",
    "            \n",
    "            except requests.RequestException as e:\n",
    "                print(f\"请求错误: {e}\")\n",
    "                break\n",
    "            except ValueError as e:\n",
    "                print(f\"JSON 解析错误: {e}\")\n",
    "                break\n",
    "            except KeyError as e:\n",
    "                print(f\"缺少字段: {e}\")\n",
    "                break\n",
    "\n",
    "    get_comments()"
   ]
  }
 ],
 "metadata": {
  "kernelspec": {
   "display_name": "Python 3",
   "language": "python",
   "name": "python3"
  },
  "language_info": {
   "codemirror_mode": {
    "name": "ipython",
    "version": 3
   },
   "file_extension": ".py",
   "mimetype": "text/x-python",
   "name": "python",
   "nbconvert_exporter": "python",
   "pygments_lexer": "ipython3",
   "version": "3.9.6"
  }
 },
 "nbformat": 4,
 "nbformat_minor": 2
}
